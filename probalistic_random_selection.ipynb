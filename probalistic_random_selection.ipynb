{
 "cells": [
  {
   "cell_type": "markdown",
   "metadata": {},
   "source": [
    "# Probalistic Random Selection"
   ]
  },
  {
   "cell_type": "markdown",
   "metadata": {},
   "source": [
    "#### A randomness is a chaos, but sometimes you need some order in chaos. A probabilistic order is most sought.\n",
    "\n",
    "Using randint funtion of random library to generate a random int is very common but sometimes you need a probabilistic randomnes. This code does that for you."
   ]
  },
  {
   "cell_type": "markdown",
   "metadata": {},
   "source": [
    "### Input:\n",
    "> src : source or a list of data or funtions<br>\n",
    "> p_d : probability distribution on source<br>"
   ]
  },
  {
   "cell_type": "markdown",
   "metadata": {},
   "source": [
    "select: (method) \n",
    "    returns an element from src\n",
    "* print the instance of the class to see the source and probability distribution"
   ]
  },
  {
   "cell_type": "code",
   "execution_count": 1,
   "metadata": {},
   "outputs": [],
   "source": [
    "from random import randint, shuffle"
   ]
  },
  {
   "cell_type": "code",
   "execution_count": 2,
   "metadata": {},
   "outputs": [],
   "source": [
    "class probilistic_selection:\n",
    "    def __init__(self, src, p_d):\n",
    "        self.src = src\n",
    "        self.probabilistic_distribution = p_d\n",
    "        total_prob = sum(self.probabilistic_distribution)\n",
    "\n",
    "        if not (total_prob == 100 or total_prob == 1):\n",
    "            raise ValueError(\"Total sum of all probabilities is not 1, except %s\"%total_prob)\n",
    "        if len(src) != len(p_d):\n",
    "            raise ValueError(\"different number of data provided src(%s) != probabilistic_distribution(%s)\"%(len(src),len(probabilistic_distribution)))\n",
    "        self._distri = []\n",
    "        for i,pd in enumerate(self.probabilistic_distribution):\n",
    "            for j in range(pd):\n",
    "                self._distri.append(src[i])\n",
    "        shuffle(self._distri)\n",
    "    def __str__(self):\n",
    "        _s = \"source, probabilistic_distribution\\n\"\n",
    "        for i,j in zip(self.src, self.probabilistic_distribution):\n",
    "            _s += \"%s, %s\\n\"%(i, j)            \n",
    "        return _s\n",
    "    def select(self):\n",
    "        return self._distri[randint(0,100)]"
   ]
  }
 ],
 "metadata": {
  "kernelspec": {
   "display_name": "Python 3",
   "language": "python",
   "name": "python3"
  },
  "language_info": {
   "codemirror_mode": {
    "name": "ipython",
    "version": 3
   },
   "file_extension": ".py",
   "mimetype": "text/x-python",
   "name": "python",
   "nbconvert_exporter": "python",
   "pygments_lexer": "ipython3",
   "version": "3.7.3"
  }
 },
 "nbformat": 4,
 "nbformat_minor": 2
}
